{
 "cells": [
  {
   "cell_type": "code",
   "execution_count": 3,
   "metadata": {
    "ExecuteTime": {
     "end_time": "2021-01-02T13:51:22.774904Z",
     "start_time": "2021-01-02T13:50:35.054395Z"
    }
   },
   "outputs": [
    {
     "name": "stdout",
     "output_type": "stream",
     "text": [
      "scale =  0.7071823204419889\n",
      "[[ 5.00053414e-01  5.00053414e-01 -2.73481317e-02]\n",
      " [-5.00053414e-01  5.00053414e-01  2.56000000e+02]]\n",
      "nW, nH =  512 512\n"
     ]
    }
   ],
   "source": [
    "import cv2\n",
    "\n",
    "import numpy as np\n",
    "\n",
    "import math\n",
    "\n",
    "img = cv2.imread(\"a.jpg\", cv2.IMREAD_GRAYSCALE)\n",
    "cv2.imshow(\"original\", img)\n",
    "# print(img.shape)\n",
    "(h, w) = img.shape\n",
    "(cx, cy) = ( w / 2, h / 2 ) # center point\n",
    "\n",
    "\n",
    "\n",
    "def rotateImage(degrees):\n",
    "    scale = np.abs(512 / 724)\n",
    "    print(\"scale = \", scale)\n",
    "    M = cv2.getRotationMatrix2D((cx, cy), degrees, scale)\n",
    "    print(M)\n",
    "    cos = np.abs(M[0,0])\n",
    "    sin = np.abs(M[0,1])\n",
    "    nW = int((h * sin) + (w * cos))\n",
    "    nH = int((h * cos) + (w * sin))\n",
    "    print(\"nW, nH = \", nW, nH)\n",
    "    rotated = cv2.warpAffine(img, M, (724, 724))\n",
    "    cv2.imshow(\"rotatedImage\", rotated)\n",
    "    return M\n",
    "\n",
    "    \n",
    "rotateImage(45)\n",
    "# M = cv2.getRotationMatrix2D((cx, cy), 45, 1)\n",
    "# print(M)\n",
    "# rotated = cv2.warpAffine(img, M, (1000, 1000))\n",
    "# print(rotated)\n",
    "# cv2.imshow(\"rotated 90 degrees\", rotated) # anti-clockwise \n",
    "\n",
    "cv2.waitKey()\n",
    "cv2.destroyAllWindows()"
   ]
  },
  {
   "cell_type": "code",
   "execution_count": null,
   "metadata": {},
   "outputs": [],
   "source": []
  }
 ],
 "metadata": {
  "kernelspec": {
   "display_name": "Python 3",
   "language": "python",
   "name": "python3"
  },
  "language_info": {
   "codemirror_mode": {
    "name": "ipython",
    "version": 3
   },
   "file_extension": ".py",
   "mimetype": "text/x-python",
   "name": "python",
   "nbconvert_exporter": "python",
   "pygments_lexer": "ipython3",
   "version": "3.7.9"
  },
  "toc": {
   "base_numbering": 1,
   "nav_menu": {},
   "number_sections": true,
   "sideBar": true,
   "skip_h1_title": false,
   "title_cell": "Table of Contents",
   "title_sidebar": "Contents",
   "toc_cell": false,
   "toc_position": {},
   "toc_section_display": true,
   "toc_window_display": false
  },
  "varInspector": {
   "cols": {
    "lenName": 16,
    "lenType": 16,
    "lenVar": 40
   },
   "kernels_config": {
    "python": {
     "delete_cmd_postfix": "",
     "delete_cmd_prefix": "del ",
     "library": "var_list.py",
     "varRefreshCmd": "print(var_dic_list())"
    },
    "r": {
     "delete_cmd_postfix": ") ",
     "delete_cmd_prefix": "rm(",
     "library": "var_list.r",
     "varRefreshCmd": "cat(var_dic_list()) "
    }
   },
   "types_to_exclude": [
    "module",
    "function",
    "builtin_function_or_method",
    "instance",
    "_Feature"
   ],
   "window_display": false
  }
 },
 "nbformat": 4,
 "nbformat_minor": 4
}
