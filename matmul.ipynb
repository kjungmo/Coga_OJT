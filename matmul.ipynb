{
 "cells": [
  {
   "cell_type": "code",
   "execution_count": 1,
   "metadata": {
    "ExecuteTime": {
     "end_time": "2020-12-21T12:11:24.945075Z",
     "start_time": "2020-12-21T12:11:24.932112Z"
    }
   },
   "outputs": [
    {
     "name": "stdout",
     "output_type": "stream",
     "text": [
      "2 2\n",
      "\n",
      "1 2\n",
      "\n",
      "4 5\n"
     ]
    }
   ],
   "source": [
    "f = open(\"a.txt\", 'r')\n",
    "while True:\n",
    "    line = f.readline()\n",
    "    if not line: \n",
    "        break\n",
    "    print(line)\n",
    "\n",
    "f.close()"
   ]
  },
  {
   "cell_type": "code",
   "execution_count": 2,
   "metadata": {
    "ExecuteTime": {
     "end_time": "2020-12-21T12:11:24.995942Z",
     "start_time": "2020-12-21T12:11:24.964026Z"
    }
   },
   "outputs": [
    {
     "data": {
      "text/plain": [
       "'F:\\\\Github\\\\Coga_OJT'"
      ]
     },
     "execution_count": 2,
     "metadata": {},
     "output_type": "execute_result"
    }
   ],
   "source": [
    "import os\n",
    "\n",
    "os.listdir()\n",
    "os.getcwd()"
   ]
  },
  {
   "cell_type": "code",
   "execution_count": 19,
   "metadata": {
    "ExecuteTime": {
     "end_time": "2020-12-21T12:15:26.636762Z",
     "start_time": "2020-12-21T12:15:26.618806Z"
    },
    "scrolled": false
   },
   "outputs": [
    {
     "name": "stdout",
     "output_type": "stream",
     "text": [
      "['f:\\\\Github\\\\Coga_OJT\\\\a.txt', 'f:\\\\Github\\\\Coga_OJT\\\\b.txt']\n",
      "2 2\n",
      "\n",
      "1 2\n",
      "\n",
      "4 5\n",
      "\n",
      "2 2\n",
      "\n",
      "1 0\n",
      "\n",
      "0 1\n",
      "\n"
     ]
    }
   ],
   "source": [
    "import glob\n",
    "\n",
    "textf = \"f:\\\\Github\\\\Coga_OJT\\\\*.txt\"\n",
    "flist = glob.glob(textf)\n",
    "print(flist)\n",
    "\n",
    "for i in flist:\n",
    "    f = open(i, 'r')\n",
    "    while True:\n",
    "        print(i)\n",
    "        line = f.readline()\n",
    "        print(line)\n",
    "        if not line:\n",
    "            break\n",
    "        \n",
    "# print()\n",
    "f.close()"
   ]
  },
  {
   "cell_type": "code",
   "execution_count": 27,
   "metadata": {
    "ExecuteTime": {
     "end_time": "2020-12-21T12:25:14.777158Z",
     "start_time": "2020-12-21T12:25:14.757211Z"
    }
   },
   "outputs": [
    {
     "name": "stdout",
     "output_type": "stream",
     "text": [
      "2 2\n",
      "\n",
      "1 2\n",
      "\n",
      "4 5\n",
      "\n",
      "2 2\n",
      "\n",
      "1 0\n",
      "\n",
      "0 1\n",
      "\n"
     ]
    }
   ],
   "source": [
    "import os\n",
    "import glob\n",
    "\n",
    "data_path = 'f:/Github/Coga_OJT'\n",
    "\n",
    "f_list = glob.glob(data_path + '/*.txt')\n",
    "for i in f_list:\n",
    "#     print(i)\n",
    "    f = open(i, 'r')\n",
    "    while True:\n",
    "#         print(i)\n",
    "        line = f.readline()\n",
    "        print(line)\n",
    "        if not line:\n",
    "            break\n",
    "    \n",
    "f.close()"
   ]
  },
  {
   "cell_type": "code",
   "execution_count": null,
   "metadata": {},
   "outputs": [],
   "source": []
  }
 ],
 "metadata": {
  "kernelspec": {
   "display_name": "Python 3",
   "language": "python",
   "name": "python3"
  },
  "language_info": {
   "codemirror_mode": {
    "name": "ipython",
    "version": 3
   },
   "file_extension": ".py",
   "mimetype": "text/x-python",
   "name": "python",
   "nbconvert_exporter": "python",
   "pygments_lexer": "ipython3",
   "version": "3.8.5"
  },
  "toc": {
   "base_numbering": 1,
   "nav_menu": {},
   "number_sections": true,
   "sideBar": true,
   "skip_h1_title": false,
   "title_cell": "Table of Contents",
   "title_sidebar": "Contents",
   "toc_cell": false,
   "toc_position": {},
   "toc_section_display": true,
   "toc_window_display": false
  },
  "varInspector": {
   "cols": {
    "lenName": 16,
    "lenType": 16,
    "lenVar": 40
   },
   "kernels_config": {
    "python": {
     "delete_cmd_postfix": "",
     "delete_cmd_prefix": "del ",
     "library": "var_list.py",
     "varRefreshCmd": "print(var_dic_list())"
    },
    "r": {
     "delete_cmd_postfix": ") ",
     "delete_cmd_prefix": "rm(",
     "library": "var_list.r",
     "varRefreshCmd": "cat(var_dic_list()) "
    }
   },
   "types_to_exclude": [
    "module",
    "function",
    "builtin_function_or_method",
    "instance",
    "_Feature"
   ],
   "window_display": false
  }
 },
 "nbformat": 4,
 "nbformat_minor": 4
}
