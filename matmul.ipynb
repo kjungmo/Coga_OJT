{
 "cells": [
  {
   "cell_type": "code",
   "execution_count": 1,
   "metadata": {
    "ExecuteTime": {
     "end_time": "2020-12-21T12:11:24.945075Z",
     "start_time": "2020-12-21T12:11:24.932112Z"
    }
   },
   "outputs": [
    {
     "name": "stdout",
     "output_type": "stream",
     "text": [
      "2 2\n",
      "\n",
      "1 2\n",
      "\n",
      "4 5\n"
     ]
    }
   ],
   "source": [
    "f = open(\"a.txt\", 'r')\n",
    "while True:\n",
    "    line = f.readline()\n",
    "    if not line: \n",
    "        break\n",
    "    print(line)\n",
    "\n",
    "f.close()"
   ]
  },
  {
   "cell_type": "code",
   "execution_count": 2,
   "metadata": {
    "ExecuteTime": {
     "end_time": "2020-12-21T12:11:24.995942Z",
     "start_time": "2020-12-21T12:11:24.964026Z"
    }
   },
   "outputs": [
    {
     "data": {
      "text/plain": [
       "'F:\\\\Github\\\\Coga_OJT'"
      ]
     },
     "execution_count": 2,
     "metadata": {},
     "output_type": "execute_result"
    }
   ],
   "source": [
    "import os\n",
    "\n",
    "os.listdir()\n",
    "os.getcwd()"
   ]
  },
  {
   "cell_type": "code",
   "execution_count": 19,
   "metadata": {
    "ExecuteTime": {
     "end_time": "2020-12-21T12:15:26.636762Z",
     "start_time": "2020-12-21T12:15:26.618806Z"
    },
    "scrolled": false
   },
   "outputs": [
    {
     "name": "stdout",
     "output_type": "stream",
     "text": [
      "['f:\\\\Github\\\\Coga_OJT\\\\a.txt', 'f:\\\\Github\\\\Coga_OJT\\\\b.txt']\n",
      "2 2\n",
      "\n",
      "1 2\n",
      "\n",
      "4 5\n",
      "\n",
      "2 2\n",
      "\n",
      "1 0\n",
      "\n",
      "0 1\n",
      "\n"
     ]
    }
   ],
   "source": [
    "import glob\n",
    "\n",
    "textf = \"f:\\\\Github\\\\Coga_OJT\\\\*.txt\"\n",
    "flist = glob.glob(textf)\n",
    "print(flist)\n",
    "\n",
    "for i in flist:\n",
    "    f = open(i, 'r')\n",
    "    while True:\n",
    "        print(i)\n",
    "        line = f.readline()\n",
    "        print(line)\n",
    "        if not line:\n",
    "            break\n",
    "        \n",
    "# print()\n",
    "f.close()"
   ]
  },
  {
   "cell_type": "code",
   "execution_count": 27,
   "metadata": {
    "ExecuteTime": {
     "end_time": "2020-12-21T12:25:14.777158Z",
     "start_time": "2020-12-21T12:25:14.757211Z"
    }
   },
   "outputs": [
    {
     "name": "stdout",
     "output_type": "stream",
     "text": [
      "2 2\n",
      "\n",
      "1 2\n",
      "\n",
      "4 5\n",
      "\n",
      "2 2\n",
      "\n",
      "1 0\n",
      "\n",
      "0 1\n",
      "\n"
     ]
    }
   ],
   "source": [
    "import os\n",
    "import glob\n",
    "\n",
    "data_path = 'f:/Github/Coga_OJT'\n",
    "\n",
    "f_list = glob.glob(data_path + '/*.txt')\n",
    "for i in f_list:\n",
    "#     print(i)\n",
    "    f = open(i, 'r')\n",
    "    while True:\n",
    "#         print(i)\n",
    "        line = f.readline()\n",
    "        print(line)\n",
    "        if not line:\n",
    "            break\n",
    "    \n",
    "f.close()"
   ]
  },
  {
   "cell_type": "code",
   "execution_count": 49,
   "metadata": {
    "ExecuteTime": {
     "end_time": "2020-12-21T13:08:31.462241Z",
     "start_time": "2020-12-21T13:08:19.756550Z"
    }
   },
   "outputs": [
    {
     "name": "stdout",
     "output_type": "stream",
     "text": [
      "A 행렬의 행 수를 입력하시오.2\n",
      "A 행렬의 열 수를 입력하시오.2\n",
      "B 행렬의 행 수를 입력하시오.2\n",
      "B 행렬의 열 수를 입력하시오.2\n",
      "A행렬의 1행 1열의 값을 입력하시오.1\n",
      "A행렬의 1행 2열의 값을 입력하시오.2\n",
      "A행렬의 2행 1열의 값을 입력하시오.4\n",
      "A행렬의 2행 2열의 값을 입력하시오.5\n",
      "B행렬의 1행 1열의 값을 입력하시오.1\n",
      "B행렬의 1행 2열의 값을 입력하시오.0\n",
      "B행렬의 2행 1열의 값을 입력하시오.0\n",
      "B행렬의 2행 2열의 값을 입력하시오.1\n",
      "[[1. 2.]\n",
      " [4. 5.]] \n",
      " [[1. 0.]\n",
      " [0. 1.]]\n",
      "1.0\n",
      "5.0\n"
     ]
    }
   ],
   "source": [
    "import numpy as np\n",
    "\n",
    "# 행렬의 크기를 사용자 값을 입력받아서 생성\n",
    "a_r = int(input(\"A 행렬의 행 수를 입력하시오.\"))\n",
    "a_c = int(input(\"A 행렬의 열 수를 입력하시오.\"))\n",
    "\n",
    "b_r = int(input(\"B 행렬의 행 수를 입력하시오.\"))\n",
    "b_c = int(input(\"B 행렬의 열 수를 입력하시오.\"))\n",
    "# type(a_r)\n",
    "\n",
    "# 0으로 이루어진 빈 행렬 생성\n",
    "a_matrix = np.zeros((a_r, a_c))\n",
    "# print(a_matrix)\n",
    "\n",
    "b_matrix = np.zeros((b_r, b_c))\n",
    "# print(b_matrix)\n",
    "\n",
    "\n",
    "#반복문을 통해 행렬 안의 값들을 설정\n",
    "\n",
    "for i in range(a_r):\n",
    "    for j in range(a_c):\n",
    "        a_matrix[i][j] = int(input(\"A행렬의 {0}행 {1}열의 값을 입력하시오.\".format(i+1, j+1)))\n",
    "        \n",
    "for k in range(b_r):\n",
    "    for l in range(b_c):\n",
    "        b_matrix[k][l] = int(input(\"B행렬의 {0}행 {1}열의 값을 입력하시오.\".format(k+1, l+1)))\n",
    "        \n",
    "print(a_matrix,'\\n', b_matrix)\n",
    "\n",
    "for i in range(a_r):\n",
    "    ab_matrix = a_matrix[i][0] * b_matrix[0][i] + a_matrix[i][1] * b_matrix[1][i]\n",
    "    print(ab_matrix)"
   ]
  },
  {
   "cell_type": "code",
   "execution_count": 42,
   "metadata": {
    "ExecuteTime": {
     "end_time": "2020-12-21T12:59:19.726638Z",
     "start_time": "2020-12-21T12:59:19.708686Z"
    }
   },
   "outputs": [
    {
     "ename": "IndexError",
     "evalue": "list index out of range",
     "output_type": "error",
     "traceback": [
      "\u001b[1;31m---------------------------------------------------------------------------\u001b[0m",
      "\u001b[1;31mIndexError\u001b[0m                                Traceback (most recent call last)",
      "\u001b[1;32m<ipython-input-42-c3f9cb6699c7>\u001b[0m in \u001b[0;36m<module>\u001b[1;34m\u001b[0m\n\u001b[0;32m      1\u001b[0m \u001b[0ma\u001b[0m \u001b[1;33m=\u001b[0m \u001b[1;33m[\u001b[0m\u001b[1;33m]\u001b[0m\u001b[1;33m\u001b[0m\u001b[1;33m\u001b[0m\u001b[0m\n\u001b[1;32m----> 2\u001b[1;33m \u001b[0ma\u001b[0m\u001b[1;33m[\u001b[0m\u001b[1;36m0\u001b[0m\u001b[1;33m]\u001b[0m\u001b[1;33m[\u001b[0m\u001b[1;36m1\u001b[0m\u001b[1;33m]\u001b[0m \u001b[1;33m=\u001b[0m \u001b[1;36m1\u001b[0m\u001b[1;33m\u001b[0m\u001b[1;33m\u001b[0m\u001b[0m\n\u001b[0m\u001b[0;32m      3\u001b[0m \u001b[0mprint\u001b[0m\u001b[1;33m(\u001b[0m\u001b[0ma\u001b[0m\u001b[1;33m)\u001b[0m\u001b[1;33m\u001b[0m\u001b[1;33m\u001b[0m\u001b[0m\n",
      "\u001b[1;31mIndexError\u001b[0m: list index out of range"
     ]
    }
   ],
   "source": [
    "a = []\n",
    "a[0][1] = 1\n",
    "print(a)"
   ]
  },
  {
   "cell_type": "code",
   "execution_count": null,
   "metadata": {},
   "outputs": [],
   "source": []
  }
 ],
 "metadata": {
  "kernelspec": {
   "display_name": "Python 3",
   "language": "python",
   "name": "python3"
  },
  "language_info": {
   "codemirror_mode": {
    "name": "ipython",
    "version": 3
   },
   "file_extension": ".py",
   "mimetype": "text/x-python",
   "name": "python",
   "nbconvert_exporter": "python",
   "pygments_lexer": "ipython3",
   "version": "3.8.5"
  },
  "toc": {
   "base_numbering": 1,
   "nav_menu": {},
   "number_sections": true,
   "sideBar": true,
   "skip_h1_title": false,
   "title_cell": "Table of Contents",
   "title_sidebar": "Contents",
   "toc_cell": false,
   "toc_position": {},
   "toc_section_display": true,
   "toc_window_display": false
  },
  "varInspector": {
   "cols": {
    "lenName": 16,
    "lenType": 16,
    "lenVar": 40
   },
   "kernels_config": {
    "python": {
     "delete_cmd_postfix": "",
     "delete_cmd_prefix": "del ",
     "library": "var_list.py",
     "varRefreshCmd": "print(var_dic_list())"
    },
    "r": {
     "delete_cmd_postfix": ") ",
     "delete_cmd_prefix": "rm(",
     "library": "var_list.r",
     "varRefreshCmd": "cat(var_dic_list()) "
    }
   },
   "types_to_exclude": [
    "module",
    "function",
    "builtin_function_or_method",
    "instance",
    "_Feature"
   ],
   "window_display": false
  }
 },
 "nbformat": 4,
 "nbformat_minor": 4
}
